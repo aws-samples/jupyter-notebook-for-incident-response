{
 "cells": [
  {
   "cell_type": "markdown",
   "id": "394caeb2",
   "metadata": {},
   "source": [
    "##### Jupyter Notebook - GuardDuty Findings Analysis\n",
    "This notebook is used to conduct Amazon GuardDuty findings analysis.The notebook will guide you in connecting and quering Amazon Athena databases and tables. \n",
    "\n",
    "**Authors: Tim Manik & Jeremy Wade**\n",
    "\n",
    "*Note: This notebook assumes you have set up Amazon Security Lake within your AWS environment. You can replace the database and table names to match your own setup.*"
   ]
  },
  {
   "cell_type": "markdown",
   "id": "6a9f5f5a",
   "metadata": {},
   "source": [
    "# Setup"
   ]
  },
  {
   "cell_type": "markdown",
   "id": "e3c4bf4d",
   "metadata": {},
   "source": [
    "## Load Libraries\n",
    "\n",
    "In order to query CloudTrail and interact with AWS, we need to load several libraries and configure our environment."
   ]
  },
  {
   "cell_type": "code",
   "execution_count": null,
   "id": "ad09e1c1",
   "metadata": {
    "tags": []
   },
   "outputs": [],
   "source": [
    "pip install pyathena --quiet"
   ]
  },
  {
   "cell_type": "code",
   "execution_count": null,
   "id": "89920512",
   "metadata": {
    "tags": []
   },
   "outputs": [],
   "source": [
    "import boto3  # the Python SDK for AWS\n",
    "from datetime import datetime\n",
    "import pandas as pd # Pandas is a data analysis tool for Python\n",
    "from pyathena import connect # Python API client for Amazon Athena\n",
    "import json\n",
    "region='us-east-1' # Set region variable for API commands. For example: us-east-1\n",
    "athena_bucket = f's3://aws-athena-query-results-123456789123-{region}'  # S3 bucket that is configured to store your Athena queries\n",
    "db_name = 'amazon_security_lake_glue_db_us_east_1' # database used by Athena. Choose 'default' if your CloudTrail was created via the Athena console and 'security_analysis' if you are using the AWS Security Analytics Bootstrap"
   ]
  },
  {
   "cell_type": "markdown",
   "id": "e3d44046",
   "metadata": {},
   "source": [
    "Note: The following variables will need to be set to the aproriate values prior to running the cell: region, athena-bucket, db_name. "
   ]
  },
  {
   "cell_type": "markdown",
   "id": "b9c04dd5",
   "metadata": {},
   "source": [
    "## 1.0 Set up helper function for Athena"
   ]
  },
  {
   "cell_type": "markdown",
   "id": "cce8bd01",
   "metadata": {},
   "source": [
    "The Python query_results function shown below will help you query Athena tables."
   ]
  },
  {
   "cell_type": "code",
   "execution_count": null,
   "id": "9173ba28",
   "metadata": {
    "tags": []
   },
   "outputs": [],
   "source": [
    "def query_results(sql):\n",
    "    \n",
    "    cursor = connect(s3_staging_dir=athena_bucket, region_name=region).cursor()\n",
    "    cursor.execute(sql)\n",
    "    \n",
    "    columns = cursor.description\n",
    "    data = cursor.fetchall()\n",
    "\n",
    "    column_names = [column[0] for column in columns]\n",
    "    rows = [dict(zip(column_names, data_row)) for data_row in data]\n",
    "\n",
    "    df = pd.DataFrame(rows, columns=column_names)\n",
    "    df1 = df.style.set_table_styles([dict(selector='th', props=[('text-align', 'center')])])\n",
    "    \n",
    "    return df1.set_properties(**{'text-align': 'center'})"
   ]
  },
  {
   "cell_type": "markdown",
   "id": "73c76c04",
   "metadata": {},
   "source": [
    "# 2.0 Investigate GuardDuty findings"
   ]
  },
  {
   "cell_type": "markdown",
   "id": "7a9956cf",
   "metadata": {},
   "source": [
    "### 2.1 Show GuardDuty findings\n",
    "List GuardDuty findings via Security Hub logs to get a broad view of the types of logs we will be working with"
   ]
  },
  {
   "cell_type": "code",
   "execution_count": null,
   "id": "5309bf12-e4d2-4558-abcf-061ea18c997d",
   "metadata": {
    "jupyter": {
     "source_hidden": true
    },
    "tags": []
   },
   "outputs": [],
   "source": [
    "broad_gd = f\"\"\"\n",
    "SELECT * \n",
    "FROM \"amazon_security_lake_glue_db_us_east_1\".\"amazon_security_lake_table_us_east_1_sh_findings_1_0\" \n",
    "WHERE metadata.product.feature.name = 'GuardDuty'\n",
    "limit 5;\n",
    "\"\"\""
   ]
  },
  {
   "cell_type": "code",
   "execution_count": null,
   "id": "ba9c7b0f-4e89-44fe-a7c1-ff81bbcb463d",
   "metadata": {
    "collapsed": true,
    "jupyter": {
     "outputs_hidden": true,
     "source_hidden": true
    },
    "tags": []
   },
   "outputs": [],
   "source": [
    "results = query_results(broad_gd)\n",
    "results"
   ]
  },
  {
   "cell_type": "markdown",
   "id": "98b6e2bc-0ae5-4b6f-afa2-5b6c75542445",
   "metadata": {
    "tags": []
   },
   "source": [
    "List the amount of critical, high, medium, and low severity GuardDuty findings"
   ]
  },
  {
   "cell_type": "code",
   "execution_count": null,
   "id": "8d6c9ce2-473f-4d4c-969f-4a440e564fa5",
   "metadata": {},
   "outputs": [],
   "source": [
    "severity_count = f\"\"\"\n",
    "SELECT\n",
    "count(*) as count, severity as severity\n",
    "FROM \"amazon_security_lake_glue_db_us_east_1\".\"amazon_security_lake_table_us_east_1_sh_findings_1_0\" \n",
    "WHERE metadata.product.feature.name = 'GuardDuty'\n",
    "GROUP BY severity\n",
    "limit 5;\n",
    "\"\"\""
   ]
  },
  {
   "cell_type": "code",
   "execution_count": null,
   "id": "5b54abea-dd6e-4779-acec-3564099892c5",
   "metadata": {
    "tags": []
   },
   "outputs": [],
   "source": [
    "results = query_results(severity_count)\n",
    "results"
   ]
  },
  {
   "cell_type": "markdown",
   "id": "5fe3e590-e6be-4c26-a199-d2ac18c3f58c",
   "metadata": {},
   "source": [
    "List most common high severity GuardDuty finding by finding title (type)"
   ]
  },
  {
   "cell_type": "code",
   "execution_count": null,
   "id": "bd2dc2e2-c957-49e4-bbe3-bf9e227e5871",
   "metadata": {
    "tags": []
   },
   "outputs": [],
   "source": [
    "sev_findings_count = f\"\"\"\n",
    "SELECT\n",
    "count(*) as count, severity as severity, finding.title as findingTitle\n",
    "FROM \"amazon_security_lake_glue_db_us_east_1\".\"amazon_security_lake_table_us_east_1_sh_findings_1_0\" \n",
    "WHERE metadata.product.feature.name = 'GuardDuty'\n",
    "AND severity = 'High'\n",
    "GROUP BY severity, finding.title\n",
    "ORDER BY count DESC\n",
    "limit 10;\n",
    "\"\"\""
   ]
  },
  {
   "cell_type": "code",
   "execution_count": null,
   "id": "fb0bcee3-043a-442f-9aa9-0e103772266a",
   "metadata": {
    "tags": []
   },
   "outputs": [],
   "source": [
    "results = query_results(sev_findings_count)\n",
    "results"
   ]
  },
  {
   "cell_type": "markdown",
   "id": "2d8cfb64-9a2b-48b2-a836-6e92554e0c6d",
   "metadata": {
    "tags": []
   },
   "source": [
    "List most common resources associated with high severity GuardDuty findings"
   ]
  },
  {
   "cell_type": "code",
   "execution_count": null,
   "id": "605fc2b2-5b2e-4f27-b870-49e12172af29",
   "metadata": {
    "tags": []
   },
   "outputs": [],
   "source": [
    "highsev_resources = f\"\"\"\n",
    "SELECT\n",
    "count(*) as count, severity as severity, resources[1].type as resourceType, resources[1].uid as resourceId, finding.title as findingTitle\n",
    "FROM \"amazon_security_lake_glue_db_us_east_1\".\"amazon_security_lake_table_us_east_1_sh_findings_1_0\" \n",
    "WHERE metadata.product.feature.name = 'GuardDuty'\n",
    "AND severity = 'High'\n",
    "GROUP BY severity, resources[1].type, resources[1].uid, finding.title\n",
    "ORDER BY count DESC\n",
    "limit 10;\n",
    "\"\"\""
   ]
  },
  {
   "cell_type": "code",
   "execution_count": null,
   "id": "7a487533-5e89-45a6-ad06-313ea6a2e687",
   "metadata": {
    "tags": []
   },
   "outputs": [],
   "source": [
    "results = query_results(highsev_resources)\n",
    "results"
   ]
  },
  {
   "cell_type": "markdown",
   "id": "15dae757-39d6-4ee6-9e4a-ccbc844fd32a",
   "metadata": {
    "tags": []
   },
   "source": [
    "Show all GuardDuty findings against a specific resource"
   ]
  },
  {
   "cell_type": "code",
   "execution_count": null,
   "id": "dff894c3-76fc-4d0e-8c39-d16f29bf2591",
   "metadata": {
    "tags": []
   },
   "outputs": [],
   "source": [
    "resource_arn = 'ARN'"
   ]
  },
  {
   "cell_type": "markdown",
   "id": "392129f9",
   "metadata": {},
   "source": [
    "Note: The resource_arn variable needs to be set to the ARn of the AWS resource you want to investigate. "
   ]
  },
  {
   "cell_type": "code",
   "execution_count": null,
   "id": "fc0a5e3d-9e67-4099-803b-04c6f3d11201",
   "metadata": {
    "tags": []
   },
   "outputs": [],
   "source": [
    "\n",
    "specific_resource = f\"\"\"\n",
    "SELECT\n",
    "finding.first_seen_time FirstSeen, severity as severity, resources[1].type as resourceType, resources[1].uid as resourceId, finding.title as findingTitle\n",
    "FROM \"amazon_security_lake_glue_db_us_east_1\".\"amazon_security_lake_table_us_east_1_sh_findings_1_0\" \n",
    "WHERE metadata.product.feature.name = 'GuardDuty'\n",
    "AND severity = 'High'\n",
    "AND resources[1].uid = '{resource_arn}'\n",
    "ORDER BY finding.first_seen_time ASC\n",
    "limit 20;\n",
    "\"\"\""
   ]
  },
  {
   "cell_type": "code",
   "execution_count": null,
   "id": "6833a53b-f637-4c56-81cd-b6cbb380845a",
   "metadata": {
    "collapsed": true,
    "jupyter": {
     "outputs_hidden": true
    },
    "tags": []
   },
   "outputs": [],
   "source": [
    "results = query_results(specific_resource)\n",
    "results"
   ]
  },
  {
   "cell_type": "code",
   "execution_count": null,
   "id": "b18a1e43-0c8b-4e4d-8fca-b333935e6d42",
   "metadata": {
    "tags": []
   },
   "outputs": [],
   "source": [
    "\n",
    "\n",
    "specific_resource = f\"\"\"\n",
    "SELECT\n",
    "finding.first_seen_time FirstSeen, count(finding.first_seen_time), severity as severity, resources[1].type as resourceType, resources[1].uid as resourceId, finding.title as findingTitle\n",
    "FROM \"amazon_security_lake_glue_db_us_east_1\".\"amazon_security_lake_table_us_east_1_sh_findings_1_0\" \n",
    "WHERE metadata.product.feature.name = 'GuardDuty'\n",
    "AND severity = 'High'\n",
    "AND resources[1].uid = '{resource_arn}'\n",
    "GROUP BY finding.title, finding.first_seen_time, severity, resources[1].type, resources[1].uid\n",
    "ORDER BY finding.first_seen_time ASC\n",
    "limit 20;\n",
    "\"\"\""
   ]
  },
  {
   "cell_type": "code",
   "execution_count": null,
   "id": "a54b665c-ceda-48b4-af7d-50a23dedb9bf",
   "metadata": {
    "tags": []
   },
   "outputs": [],
   "source": [
    "results = query_results(specific_resource)\n",
    "results"
   ]
  }
 ],
 "metadata": {
  "kernelspec": {
   "display_name": "conda_python3",
   "language": "python",
   "name": "conda_python3"
  },
  "language_info": {
   "codemirror_mode": {
    "name": "ipython",
    "version": 3
   },
   "file_extension": ".py",
   "mimetype": "text/x-python",
   "name": "python",
   "nbconvert_exporter": "python",
   "pygments_lexer": "ipython3",
   "version": "3.10.12"
  }
 },
 "nbformat": 4,
 "nbformat_minor": 5
}
