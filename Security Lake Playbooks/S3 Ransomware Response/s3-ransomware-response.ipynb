{
 "cells": [
  {
   "cell_type": "markdown",
   "id": "394caeb2",
   "metadata": {},
   "source": [
    "# Jupyter Notebook - S3 Ransomware Response\n",
    "This notebook is to be used to demonstrate how to respond to a ransomware attack on Amazon S3. \n",
    "Referencing https://github.com/aws-samples/aws-customer-playbook-framework/blob/main/docs/Ransom_Response_S3.md\n",
    "\n",
    "The notebook will guide you in connecting and quering Amazon Athena databases and tables for the purpose of identifying suspicious S3 API calls, successful deletion of Amazon S3 Buckets and S3 Objects, and determining if exfiltration of data occured on a targeted Amazon S3 Bucket. \n",
    "\n",
    "**Authors: Tim Manik & Jeremy Wade**\n",
    "\n",
    "*Note: This notebook assumes you have set up Amazon Security Lake within your AWS environment. You can replace the database and table names to match your own setup.*"
   ]
  },
  {
   "cell_type": "markdown",
   "id": "6a9f5f5a",
   "metadata": {
    "tags": []
   },
   "source": [
    "# Setup"
   ]
  },
  {
   "cell_type": "markdown",
   "id": "e3c4bf4d",
   "metadata": {},
   "source": [
    "## Load Libraries\n",
    "\n",
    "In order to query CloudTrail and interact with AWS, we need to load several libraries and configure our environment."
   ]
  },
  {
   "cell_type": "code",
   "execution_count": null,
   "id": "ad09e1c1",
   "metadata": {
    "tags": []
   },
   "outputs": [],
   "source": [
    "pip install pyathena --quiet"
   ]
  },
  {
   "cell_type": "code",
   "execution_count": null,
   "id": "89920512",
   "metadata": {
    "tags": []
   },
   "outputs": [],
   "source": [
    "import boto3  # the Python SDK for AWS\n",
    "import json\n",
    "from datetime import datetime\n",
    "import pandas as pd # Pandas is a data analysis tool for Python\n",
    "from pyathena import connect # Python API client for Amazon Athena\n",
    "region='us-east-1' # Set region variable to us-east-1 for API commands\n",
    "athena_bucket = f's3://aws-athena-query-results-123456789123-{region}'  # S3 bucket that is configured to store your Athena queries\n",
    "db_name = 'amazon_security_lake_glue_db_us_east_1' # database used by Athena. Choose 'default' if your CloudTrail was created via the Athena console and 'security_analysis' if you are using the AWS Security Analytics Bootstrap"
   ]
  },
  {
   "cell_type": "markdown",
   "id": "0453a680",
   "metadata": {},
   "source": [
    "Note: The following variables will need to be set to the aproriate values prior to running the cell: region, athena-bucket, db_name. "
   ]
  },
  {
   "cell_type": "markdown",
   "id": "b9c04dd5",
   "metadata": {},
   "source": [
    "## 1.0 Set up helper function for Athena"
   ]
  },
  {
   "cell_type": "markdown",
   "id": "cce8bd01",
   "metadata": {},
   "source": [
    "The Python query_results function shown below will help you query Athena tables."
   ]
  },
  {
   "cell_type": "code",
   "execution_count": null,
   "id": "9173ba28",
   "metadata": {
    "tags": []
   },
   "outputs": [],
   "source": [
    "def query_results(sql):\n",
    "    \n",
    "    cursor = connect(s3_staging_dir=athena_bucket, region_name=region).cursor()\n",
    "    cursor.execute(sql)\n",
    "    \n",
    "    columns = cursor.description\n",
    "    data = cursor.fetchall()\n",
    "\n",
    "    column_names = [column[0] for column in columns]\n",
    "    rows = [dict(zip(column_names, data_row)) for data_row in data]\n",
    "\n",
    "    df = pd.DataFrame(rows, columns=column_names)\n",
    "    df1 = df.style.set_table_styles([dict(selector='th', props=[('text-align', 'center')])])\n",
    "    \n",
    "    return df1.set_properties(**{'text-align': 'center'})"
   ]
  },
  {
   "cell_type": "markdown",
   "id": "73c76c04",
   "metadata": {},
   "source": [
    "# 1.1 Connect to CloudTrail"
   ]
  },
  {
   "cell_type": "markdown",
   "id": "b5520492-b4ab-4785-aee3-674a3400b5a2",
   "metadata": {
    "tags": []
   },
   "source": [
    "### Generic Query to Review Unfiltered Logs"
   ]
  },
  {
   "cell_type": "markdown",
   "id": "cbc820a1-d168-42ec-b554-e18fec5109a3",
   "metadata": {},
   "source": [
    "It is recommend to conduct a simplified SQL query against unfiltered logs to ensure a connection is to the database and tables is made successfully. Additionally, an unfiltered request will provide an overview of the available data that can be queried. "
   ]
  },
  {
   "cell_type": "code",
   "execution_count": null,
   "id": "ca7b8126-2cba-4c4a-967f-b18de3c0b5e3",
   "metadata": {
    "tags": []
   },
   "outputs": [],
   "source": [
    "generic = f\"\"\"\n",
    "SELECT * \n",
    "\n",
    "FROM \"amazon_security_lake_glue_db_us_east_1\".\"amazon_security_lake_table_us_east_1_cloud_trail_mgmt_1_0\" \n",
    "ORDER BY time\n",
    "LIMIT 10\n",
    "\"\"\""
   ]
  },
  {
   "cell_type": "code",
   "execution_count": null,
   "id": "429e9814-2d97-4c7f-bc18-a30cbeb37757",
   "metadata": {
    "collapsed": true,
    "jupyter": {
     "outputs_hidden": true
    },
    "tags": []
   },
   "outputs": [],
   "source": [
    "results = query_results(generic)\n",
    "results"
   ]
  },
  {
   "cell_type": "markdown",
   "id": "e97a2bde-7f27-4a53-9d7d-a00b8e63fdbb",
   "metadata": {},
   "source": [
    "## 2.1 Review of Relevent GuardDuty Findings"
   ]
  },
  {
   "cell_type": "markdown",
   "id": "5cc77906",
   "metadata": {},
   "source": [
    "The following queries are used to identify High Severity GuardDuty findings and a summary of most commong Tactics, Techniques, and Procedures (TTPs) related to the Amazon S3 service as a resource. "
   ]
  },
  {
   "cell_type": "markdown",
   "id": "a3805ddf-307e-47a4-80ad-e75acc15564c",
   "metadata": {},
   "source": [
    "### List high severity GuardDuty findings with S3 as the resource type"
   ]
  },
  {
   "cell_type": "code",
   "execution_count": null,
   "id": "40e298fa-05e1-4441-bbcc-8d727bd13f91",
   "metadata": {},
   "outputs": [],
   "source": [
    "highsev_s3 = f\"\"\"\n",
    "SELECT\n",
    "*\n",
    "FROM \"amazon_security_lake_glue_db_us_east_1\".\"amazon_security_lake_table_us_east_1_sh_findings_1_0\" \n",
    "WHERE metadata.product.feature.name = 'GuardDuty'\n",
    "AND severity = 'High'\n",
    "AND resources[1].type = 'AwsS3Bucket'\n",
    "ORDER BY time DESC\n",
    "limit 10;\n",
    "\"\"\""
   ]
  },
  {
   "cell_type": "code",
   "execution_count": null,
   "id": "f48543b7-f385-406a-9d9d-3363b893d541",
   "metadata": {},
   "outputs": [],
   "source": [
    "results = query_results(highsev_s3)\n",
    "results"
   ]
  },
  {
   "cell_type": "markdown",
   "id": "814117b1-31b5-46ef-a740-9313edc05fe7",
   "metadata": {},
   "source": [
    "### Summarizes most common TTPs against S3"
   ]
  },
  {
   "cell_type": "code",
   "execution_count": null,
   "id": "162b1320-d3f8-4b3b-9991-668f6de5a494",
   "metadata": {},
   "outputs": [],
   "source": [
    "highsev_s3_summary = f\"\"\"\n",
    "SELECT\n",
    "    count(*) as count,\n",
    "    severity as severity,\n",
    "    resources[1].type as resourceType,\n",
    "    resources[1].uid as resourceId,\n",
    "    finding.title as findingTitle\n",
    "FROM\n",
    "    \"amazon_security_lake_glue_db_us_east_1\".\"amazon_security_lake_table_us_east_1_sh_findings_1_0\"\n",
    "WHERE\n",
    "    metadata.product.feature.name = 'GuardDuty'\n",
    "    AND severity = 'High'\n",
    "    AND resources[1].type = 'AwsS3Bucket'\n",
    "GROUP BY\n",
    "    severity,\n",
    "    resources[1].type,\n",
    "    resources[1].uid,\n",
    "    finding.title\n",
    "ORDER BY\n",
    "    count DESC\n",
    "LIMIT 10;\n",
    "\"\"\""
   ]
  },
  {
   "cell_type": "code",
   "execution_count": null,
   "id": "ccaca9da-e795-4261-91e2-826aeea09302",
   "metadata": {},
   "outputs": [],
   "source": [
    "results = query_results(highsev_s3_summary)\n",
    "results"
   ]
  },
  {
   "cell_type": "markdown",
   "id": "648c78c4-b2a3-4a7b-b63a-219589e8d74a",
   "metadata": {},
   "source": [
    "## 2.2 Review CloudTrail for suspicious S3 API calls"
   ]
  },
  {
   "cell_type": "markdown",
   "id": "4fd00d65-ab0c-404a-9eef-7cc9c1b269ed",
   "metadata": {},
   "source": [
    "Next responders can start reviewing if any suspicious S3 API calls were made. Essentially, responders will be reviewing if there were any \"impact\" as part of the MITRE ATT&CK framework. Additional information regarding MITR ATT&CK: https://attack.mitre.org/matrices/enterprise/ \n"
   ]
  },
  {
   "cell_type": "code",
   "execution_count": null,
   "id": "8b814b71-abd8-40b8-a4a4-786624bcdfd3",
   "metadata": {
    "tags": []
   },
   "outputs": [],
   "source": [
    "api = ['DeleteBucket','DeleteBucketCors', 'DeleteBucketEncryption','DeleteBucketLifecycle','DeleteBucketPolicy','DeleteBucketReplication','DeleteBucketTagging','DeleteBucketPublicAccessBlock']\n",
    "t = tuple(api)\n",
    "\n",
    "suspicious_apis = f\"\"\"\n",
    "SELECT * \n",
    "\n",
    "FROM \"amazon_security_lake_glue_db_us_east_1\".\"amazon_security_lake_table_us_east_1_cloud_trail_mgmt_1_0\" \n",
    "WHERE api.operation IN {t}\n",
    "limit 5;\n",
    "\"\"\"\n"
   ]
  },
  {
   "cell_type": "code",
   "execution_count": null,
   "id": "4c2d8535-ef2a-404c-8e09-906f33800a02",
   "metadata": {
    "collapsed": true,
    "jupyter": {
     "outputs_hidden": true
    },
    "tags": []
   },
   "outputs": [],
   "source": [
    "results = query_results(suspicious_apis)\n",
    "results"
   ]
  },
  {
   "cell_type": "markdown",
   "id": "5cd4d12a-94cc-4402-b7e7-398639bb2cee",
   "metadata": {
    "tags": []
   },
   "source": [
    "### 2.2.1 Summarize logs of suspicious S3 API calls SUCCESSFULLY made\n"
   ]
  },
  {
   "cell_type": "markdown",
   "id": "eebd00f1-411e-4cd0-91c2-cfe573775b52",
   "metadata": {},
   "source": [
    "Generate a cleaner view of suspicious S3 API calls that were made successfully. "
   ]
  },
  {
   "cell_type": "code",
   "execution_count": null,
   "id": "e0ef82b9-961d-4348-a5e5-381455d62050",
   "metadata": {
    "tags": []
   },
   "outputs": [],
   "source": [
    "deleteApis = ['DeleteBucket','DeleteBucketCors', 'DeleteBucketEncryption','DeleteBucketLifecycle','DeleteBucketPolicy','DeleteBucketReplication','DeleteBucketTagging','DeleteBucketPublicAccessBlock']\n",
    "t = tuple(deleteApis)\n",
    "\n",
    "suspicious_apis_summary = f\"\"\"\n",
    "SELECT accountid as AccountID, region as Region, time as Time, unmapped['requestParameters.bucketName'] as BucketName, api.operation as ApiCall, status as Status, actor.user.type as IdentityType, actor.session.issuer as RoleName, src_endpoint.ip as IpAddress, src_endpoint.uid as Vpc_Endpoint, src_endpoint.domain as AccessViaService \n",
    "FROM \"amazon_security_lake_glue_db_us_east_1\".\"amazon_security_lake_table_us_east_1_cloud_trail_mgmt_1_0\" \n",
    "WHERE api.operation IN {t}\n",
    "AND status = 'Success'\n",
    "ORDER BY time\n",
    "limit 25;\n",
    "\"\"\""
   ]
  },
  {
   "cell_type": "code",
   "execution_count": null,
   "id": "6a714a91-ffd0-4f4d-bd39-ece128e150d4",
   "metadata": {
    "collapsed": true,
    "jupyter": {
     "outputs_hidden": true
    },
    "tags": []
   },
   "outputs": [],
   "source": [
    "results = query_results(suspicious_apis_summary)\n",
    "results"
   ]
  },
  {
   "cell_type": "markdown",
   "id": "8475c77e-7738-4879-b435-abf68f8eb510",
   "metadata": {
    "tags": []
   },
   "source": [
    "### 2.2.2 Count of Suspicious S3 API Calls"
   ]
  },
  {
   "cell_type": "markdown",
   "id": "4f307078",
   "metadata": {},
   "source": [
    "Generate a count view of suspicious S3 API calls that were successfull."
   ]
  },
  {
   "cell_type": "code",
   "execution_count": null,
   "id": "fac483e2-268d-4ef7-ad27-6c67482a9bf9",
   "metadata": {
    "tags": []
   },
   "outputs": [],
   "source": [
    "deleteApis = ['DeleteBucket','DeleteBucketCors', 'DeleteBucketEncryption','DeleteBucketLifecycle','DeleteBucketPolicy','DeleteBucketReplication','DeleteBucketTagging','DeleteBucketPublicAccessBlock']\n",
    "t = tuple(deleteApis)\n",
    "\n",
    "suspicious_apis_count = f\"\"\"\n",
    "SELECT count(*) as Count, api.operation as ApiCall, api.service.name as Service\n",
    "\n",
    "FROM \"amazon_security_lake_glue_db_us_east_1\".\"amazon_security_lake_table_us_east_1_cloud_trail_mgmt_1_0\" \n",
    "WHERE api.operation IN {t}\n",
    "AND status = 'Success'\n",
    "GROUP BY api.operation, api.service.name\n",
    "ORDER BY Count Desc\n",
    "limit 25;\n",
    "\"\"\""
   ]
  },
  {
   "cell_type": "code",
   "execution_count": null,
   "id": "e5883001-fd94-4ab1-943c-ee0b6adf6c60",
   "metadata": {
    "tags": []
   },
   "outputs": [],
   "source": [
    "results = query_results(suspicious_apis_count)\n",
    "results"
   ]
  },
  {
   "cell_type": "markdown",
   "id": "3f07300d-5211-42c9-9521-ef6fd42907a0",
   "metadata": {
    "tags": []
   },
   "source": [
    "### 2.2.3 Deleted Objects and Buckets"
   ]
  },
  {
   "cell_type": "markdown",
   "id": "d040db71-b8b6-4cc4-ada5-6e3958ea5906",
   "metadata": {},
   "source": [
    "This query shows an overview of successfull attempts at deleting an Amazon S3 Bucket and S3 Objects. "
   ]
  },
  {
   "cell_type": "code",
   "execution_count": null,
   "id": "87f5755e-a350-468e-b4c1-c0e6fa9bb02f",
   "metadata": {
    "tags": []
   },
   "outputs": [],
   "source": [
    "deleteObjBuc = ['DeleteBucket','DeleteObject']\n",
    "t = tuple(deleteObjBuc)\n",
    "\n",
    "deletedFiles = f\"\"\"\n",
    "SELECT accountid as AccountID, region as Region, unmapped['requestParameters.bucketName'] as BucketName, api.operation as ApiCall, status as Status, actor.user.type as IdentityType, actor.session.issuer as RoleName, src_endpoint.ip as IpAddress, src_endpoint.uid as Vpc_Endpoint, src_endpoint.domain as AccessViaService \n",
    "FROM \"amazon_security_lake_glue_db_us_east_1\".\"amazon_security_lake_table_us_east_1_cloud_trail_mgmt_1_0\" \n",
    "WHERE api.operation IN {t}\n",
    "AND status = 'Success'\n",
    "GROUP BY accountid, region, unmapped['requestParameters.bucketName'], api.operation, status, actor.user.type, actor.session.issuer, src_endpoint.ip, src_endpoint.uid, src_endpoint.domain\n",
    "limit 25;\n",
    "\"\"\""
   ]
  },
  {
   "cell_type": "code",
   "execution_count": null,
   "id": "929598f1-7f8e-4f3a-849e-e2d32ef450b4",
   "metadata": {
    "collapsed": true,
    "jupyter": {
     "outputs_hidden": true
    },
    "tags": []
   },
   "outputs": [],
   "source": [
    "results = query_results(deletedFiles)\n",
    "results"
   ]
  },
  {
   "cell_type": "markdown",
   "id": "dd8004a5-1ab6-4a04-a9d2-54487deb3aa7",
   "metadata": {
    "tags": []
   },
   "source": [
    "#### 2.2.3.1 Lists Buckets that are SUCCESSFULLY deleted"
   ]
  },
  {
   "cell_type": "code",
   "execution_count": null,
   "id": "20bbafdb-8bf8-45e0-b720-7d05e1ea6a56",
   "metadata": {
    "tags": []
   },
   "outputs": [],
   "source": [
    "delete_bucket_count = f\"\"\"\n",
    "SELECT\n",
    "api.operation as ApiCall, api.service.name as Service, unmapped['requestParameters.bucketName'] as BucketName, resources, actor.user.type as IdentityType, actor.session.issuer as RoleName\n",
    "FROM \"amazon_security_lake_glue_db_us_east_1\".\"amazon_security_lake_table_us_east_1_cloud_trail_mgmt_1_0\" \n",
    "WHERE api.operation = 'DeleteBucket'\n",
    "AND status = 'Success'\n",
    "GROUP BY api.operation, api.service.name, unmapped['requestParameters.bucketName'], resources, actor.user.type, actor.session.issuer\n",
    "limit 25;\n",
    "\"\"\""
   ]
  },
  {
   "cell_type": "code",
   "execution_count": null,
   "id": "80a30b90-90e4-46ef-bb6b-b940f2c289b3",
   "metadata": {
    "collapsed": true,
    "jupyter": {
     "outputs_hidden": true
    },
    "tags": []
   },
   "outputs": [],
   "source": [
    "results = query_results(delete_bucket_count)\n",
    "results"
   ]
  },
  {
   "cell_type": "markdown",
   "id": "e2aa5627-d4cb-44ae-a8b4-0fb7eae4d960",
   "metadata": {
    "tags": []
   },
   "source": [
    "#### 2.2.3.2 List Objects that are SUCCESSFULLY deleted"
   ]
  },
  {
   "cell_type": "code",
   "execution_count": null,
   "id": "5554c03d-1481-4f21-9b5a-8d8b1462f180",
   "metadata": {
    "tags": []
   },
   "outputs": [],
   "source": [
    "delete_obj_count = f\"\"\"\n",
    "SELECT\n",
    "api.operation as ApiCall, api.service.name as Service, unmapped['requestParameters.bucketName'] as BucketName, resources, actor.user.type as IdentityType, actor.session.issuer as RoleName\n",
    "FROM \"amazon_security_lake_glue_db_us_east_1\".\"amazon_security_lake_table_us_east_1_s3_data_1_0\" \n",
    "WHERE api.operation = 'DeleteObject'\n",
    "AND status = 'Success'\n",
    "GROUP BY api.operation, api.service.name, unmapped['requestParameters.bucketName'], resources, actor.user.type, actor.session.issuer\n",
    "limit 10;\n",
    "\"\"\""
   ]
  },
  {
   "cell_type": "code",
   "execution_count": null,
   "id": "1f2c2687-ad1d-4673-b363-dd94f2c730d6",
   "metadata": {
    "collapsed": true,
    "jupyter": {
     "outputs_hidden": true
    },
    "tags": []
   },
   "outputs": [],
   "source": [
    "results = query_results(delete_obj_count)\n",
    "results"
   ]
  },
  {
   "cell_type": "markdown",
   "id": "ec37296d-6648-493c-be6a-938cb141191a",
   "metadata": {
    "tags": []
   },
   "source": [
    "## 2.3 Investigate Cloudtrail for Suspicious Identities"
   ]
  },
  {
   "cell_type": "markdown",
   "id": "f6b5b0c3",
   "metadata": {},
   "source": [
    "The following queries can be used to investigate suspicious identities to establish other activities conducted leveraging other API operations. \n",
    "\n",
    "*Note 1: Replace the value of {role_arn} with the ARN of the identity you would like to investigate.*  \n",
    "*Note 2: The query can be copied and repeated for each identity that needs to be investigated. You can increment the {role_arn} variable, or create a new variable.*\n"
   ]
  },
  {
   "cell_type": "code",
   "execution_count": null,
   "id": "32c1963a-cd5d-4221-aa54-3912a5763034",
   "metadata": {
    "tags": []
   },
   "outputs": [],
   "source": [
    "role_arn1 = 'IAM USER ARN'"
   ]
  },
  {
   "cell_type": "code",
   "execution_count": null,
   "id": "3aed987d-fe72-4175-a0ff-f3aec3a0092e",
   "metadata": {
    "tags": []
   },
   "outputs": [],
   "source": [
    "suspicious_role1 = f\"\"\"\n",
    "SELECT\n",
    "time, http_request, src_endpoint, actor.user.type as IdentityType, actor.session.issuer as RoleName, api.operation as ApiCall, api.service.name as Service, status, resources\n",
    "FROM \"amazon_security_lake_glue_db_us_east_1\".\"amazon_security_lake_table_us_east_1_cloud_trail_mgmt_1_0\" \n",
    "WHERE actor.session.issuer = '{role_arn1}'\n",
    "GROUP BY time, http_request, src_endpoint, actor.user.type, actor.session.issuer, api.operation, api.service.name, status, resources\n",
    "ORDER BY time ASC\n",
    "limit 25;\n",
    "\"\"\""
   ]
  },
  {
   "cell_type": "code",
   "execution_count": null,
   "id": "c593221a-24f1-40d3-b7a0-05d23d85aadf",
   "metadata": {
    "collapsed": true,
    "jupyter": {
     "outputs_hidden": true
    },
    "tags": []
   },
   "outputs": [],
   "source": [
    "results = query_results(suspicious_role1)\n",
    "results"
   ]
  },
  {
   "cell_type": "markdown",
   "id": "55b14077-a119-4ca1-9d3b-fe11a58addf6",
   "metadata": {},
   "source": [
    "## 2.2 EXFILTRATION"
   ]
  },
  {
   "cell_type": "markdown",
   "id": "98c6c576-59b0-4953-bb0f-aa03d9b470a8",
   "metadata": {
    "tags": []
   },
   "source": [
    "### Amount of data transferred to a specific IP address"
   ]
  },
  {
   "cell_type": "markdown",
   "id": "709c82f3-dd70-4996-8979-35e692aea3ea",
   "metadata": {},
   "source": [
    "Show a list of IP addresses that data has been transferred out to from S3"
   ]
  },
  {
   "cell_type": "code",
   "execution_count": null,
   "id": "da101fd8-23e2-4f5e-81ea-856b36ec0b8e",
   "metadata": {
    "tags": []
   },
   "outputs": [],
   "source": [
    "\n",
    "data_transfers = f\"\"\"\n",
    "\n",
    "SELECT coalesce(SUM(CAST(unmapped['additionalEventData.bytesTransferredOut'] AS DECIMAL(30,2))), 0)/1000000000 AS GigabytesSentTotal, accountid as AccountID, region as Region, unmapped['requestParameters.bucketName'] as BucketName, src_endpoint.ip as IpAddress\n",
    "FROM \"amazon_security_lake_glue_db_us_east_1\".\"amazon_security_lake_table_us_east_1_s3_data_1_0\"\n",
    "WHERE CAST(unmapped['additionalEventData.bytesTransferredOut'] AS DECIMAL(30,2)) > 0\n",
    "AND src_endpoint.ip IS NOT NULL\n",
    "GROUP BY src_endpoint.ip, accountid, region, unmapped['requestParameters.bucketName'], src_endpoint.uid, src_endpoint.domain\n",
    "ORDER BY GigabytesSentTotal DESC\n",
    "Limit 10;\n",
    "\n",
    "\"\"\""
   ]
  },
  {
   "cell_type": "code",
   "execution_count": null,
   "id": "745568bf-d5e8-4c48-8279-9b6b98ece219",
   "metadata": {
    "collapsed": true,
    "jupyter": {
     "outputs_hidden": true
    },
    "tags": []
   },
   "outputs": [],
   "source": [
    "results = query_results(data_transfers)\n",
    "results"
   ]
  },
  {
   "cell_type": "markdown",
   "id": "234d4c8c-d79a-4c36-bffb-b3e5f04bc569",
   "metadata": {
    "tags": []
   },
   "source": [
    "### Top 5 Largest Data Transfer Out"
   ]
  },
  {
   "cell_type": "code",
   "execution_count": null,
   "id": "c069e3f8-6e00-4035-a040-bd17a582165b",
   "metadata": {
    "tags": []
   },
   "outputs": [],
   "source": [
    "data_transfers_summary = f\"\"\"\n",
    "\n",
    "SELECT coalesce(SUM(CAST(unmapped['additionalEventData.bytesTransferredOut'] AS DECIMAL(30,2))), 0)/1000000000 AS GigabytesSentTotal, src_endpoint.ip as IpAddress\n",
    "FROM \"amazon_security_lake_glue_db_us_east_1\".\"amazon_security_lake_table_us_east_1_s3_data_1_0\"\n",
    "WHERE CAST(unmapped['additionalEventData.bytesTransferredOut'] AS DECIMAL(30,2)) > 0\n",
    "AND src_endpoint.ip IS NOT NULL\n",
    "GROUP BY src_endpoint.ip\n",
    "ORDER BY GigabytesSentTotal DESC\n",
    "Limit 5;\n",
    "\n",
    "\"\"\""
   ]
  },
  {
   "cell_type": "code",
   "execution_count": null,
   "id": "745c36c8-3cdd-4da1-95ed-99d0438cd664",
   "metadata": {
    "tags": []
   },
   "outputs": [],
   "source": [
    "results = query_results(data_transfers_summary)\n",
    "results"
   ]
  }
 ],
 "metadata": {
  "kernelspec": {
   "display_name": "conda_python3",
   "language": "python",
   "name": "conda_python3"
  },
  "language_info": {
   "codemirror_mode": {
    "name": "ipython",
    "version": 3
   },
   "file_extension": ".py",
   "mimetype": "text/x-python",
   "name": "python",
   "nbconvert_exporter": "python",
   "pygments_lexer": "ipython3",
   "version": "3.10.12"
  }
 },
 "nbformat": 4,
 "nbformat_minor": 5
}
